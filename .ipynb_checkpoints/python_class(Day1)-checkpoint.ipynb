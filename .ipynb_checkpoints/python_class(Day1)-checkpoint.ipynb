{
 "cells": [
  {
   "cell_type": "markdown",
   "metadata": {},
   "source": [
    "## for문"
   ]
  },
  {
   "cell_type": "code",
   "execution_count": null,
   "metadata": {},
   "outputs": [],
   "source": [
    "scope = [1, 2, 3]\n",
    "for x in scope:\n",
    "    print(x)\n",
    "  # break\n",
    "else:\n",
    "    print('Perfect')"
   ]
  },
  {
   "cell_type": "markdown",
   "metadata": {},
   "source": [
    "## 타자 게임 만들기"
   ]
  },
  {
   "cell_type": "code",
   "execution_count": 9,
   "metadata": {},
   "outputs": [
    {
     "name": "stdout",
     "output_type": "stream",
     "text": [
      "[타자 게임] 준비되면 엔터!\n",
      "\n",
      "*문제 1\n",
      "snake\n",
      "snake\n",
      "통과!\n",
      "*문제 2\n",
      "wolf\n",
      "wolf\n",
      "통과!\n",
      "*문제 3\n",
      "cat\n",
      "cat\n",
      "통과!\n",
      "*문제 4\n",
      "panda\n",
      "panda\n",
      "통과!\n",
      "*문제 5\n",
      "wolf\n",
      "wolf\n",
      "통과!\n",
      "타자시간: 9.67 초\n"
     ]
    }
   ],
   "source": [
    "\"\"\"\n",
    " 1. 사전 준비\n",
    "   게임에 필요한 모듈을 import 합니다. input 함수를 이용하여 사용자가 \n",
    "   타자 게임을 시작할 준비를 하고 enter 를 누를 때까지 기다립니다.\n",
    "  2. 메인 프로그램\n",
    "   사용자에게 문제를 보여 주고 타자 입력을 받고 처리하는 과정을 다섯 번 반복합니다.\n",
    "   (오타가 납면 다섯 번 이상 반복해야 할 수 있으므로 for가 아니 while 명령을 사용합니다.)\n",
    "  3. 결과를 계산해서 보여주기\n",
    "   사용자가 타자 문제를 모두 입력하는 데 걸린 시간을 소수점 둘째자리까지 계산해서 출력합니다.\n",
    "\"\"\"\n",
    "\n",
    "import random\n",
    "import time\n",
    "\n",
    "# 단어 리스트: 여기에 단어를 추가하면 문제에 나옵니다.\n",
    "w = [\"cat\", \"dog\", \"fox\", \"monkey\", \"mouse\", \"panda\", \"frog\", \"snake\", \"wolf\"]\n",
    "n = 1                   # 문제 번호\n",
    "\n",
    "print(\"[타자 게임] 준비되면 엔터!\")\n",
    "input()                 # 사용자가 엔터를 누를 때까지 기다립니다.\n",
    "\n",
    "start = time.time()     # 시작 시간을 기록합니다.\n",
    "q = random.choice(w)    # 단어 리스트에서 아무거나 하나 뽑습니다.\n",
    "\n",
    "while n <= 5:           # 문제를 5번 반복합니다.\n",
    "    print(\"*문제\", n)\n",
    "    print(q)            # 문제를 보여줍니다.\n",
    "    x = input()         # 사용자 입력을 받습니다.\n",
    "    if q == x:          # 문제와 입력이 같을 때(올바로 입력했을 때)\n",
    "        print(\"통과!\")  # \"통과!\"라고 출력합니다.\n",
    "        n = n + 1       # 문제 번호를 1 증가시킵니다.\n",
    "        q = random.choice(w)   # 새 문제를 뽑습니다.\n",
    "    else:\n",
    "        print(\"오타! 다시도전!\")\n",
    "\n",
    "end = time.time()       # 끝난 시간을 기록합니다.\n",
    "et = end - start        # 실제로 걸린 시간을 계산합니다.\n",
    "et = format(et, \".2f\")  # 보기 좋게 소수점 2자리까지만 표기합니다.\n",
    "\n",
    "print(\"타자시간:\", et, \"초\")\n"
   ]
  },
  {
   "cell_type": "markdown",
   "metadata": {},
   "source": [
    "## 문자열 포맷팅"
   ]
  },
  {
   "cell_type": "code",
   "execution_count": 5,
   "metadata": {},
   "outputs": [
    {
     "name": "stdout",
     "output_type": "stream",
     "text": [
      "진행률 0%                                                                                                                                                                                                                                                                                                                                "
     ]
    }
   ],
   "source": [
    "from time import sleep\n",
    "\n",
    "for i in range(100):\n",
    "   msg = '\\r진행률 %d%%' %(100-i-1)  # \\r 줄의 맨처음\n",
    "   print(' '*len(msg), end='')       # msg 길이만큼 공백문자를 줄바꿈 없이 화면에 출력\n",
    "   print(msg, end='')\n",
    "   sleep(0.1)"
   ]
  },
  {
   "cell_type": "markdown",
   "metadata": {},
   "source": [
    "## 리스트 와 튜플"
   ]
  },
  {
   "cell_type": "code",
   "execution_count": 7,
   "metadata": {},
   "outputs": [
    {
     "name": "stdout",
     "output_type": "stream",
     "text": [
      "안녕하세요\n"
     ]
    }
   ],
   "source": [
    "def myfunc():\n",
    "   print('안녕하세요')\n",
    "list4 = [1, 2, myfunc]\n",
    "list4[2]()       # ‘안녕하세요’ 가 출력됨\n",
    "# list4[2]는 <function __main__.myfunc()>라고 출력됨"
   ]
  },
  {
   "cell_type": "code",
   "execution_count": 10,
   "metadata": {},
   "outputs": [
    {
     "name": "stdout",
     "output_type": "stream",
     "text": [
      "안녕하세요\n"
     ]
    }
   ],
   "source": [
    "tuple1 = (1, 2, 3, 4, 5)\n",
    "tuple2 = ('a', 'b', 'c')\n",
    "tuple3 = (1, 'a', 'abc', [1, 2, 3, 4, 5], ['a', 'b', 'c'])\n",
    "#tuple1[0] = 6\n",
    "\n",
    "def myfunc():\n",
    "   print('안녕하세요')\n",
    "\n",
    "tuple4 = (1, 2, myfunc)\n",
    "tuple4[2]()       # ‘안녕하세요’ 가 출력됨"
   ]
  },
  {
   "cell_type": "code",
   "execution_count": null,
   "metadata": {},
   "outputs": [],
   "source": []
  }
 ],
 "metadata": {
  "kernelspec": {
   "display_name": "Python 3",
   "language": "python",
   "name": "python3"
  },
  "language_info": {
   "codemirror_mode": {
    "name": "ipython",
    "version": 3
   },
   "file_extension": ".py",
   "mimetype": "text/x-python",
   "name": "python",
   "nbconvert_exporter": "python",
   "pygments_lexer": "ipython3",
   "version": "3.7.4"
  }
 },
 "nbformat": 4,
 "nbformat_minor": 2
}
