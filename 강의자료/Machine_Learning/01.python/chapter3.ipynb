{
 "cells": [
  {
   "cell_type": "markdown",
   "metadata": {},
   "source": [
    "## 문자열 구간 지정"
   ]
  },
  {
   "cell_type": "code",
   "execution_count": 2,
   "metadata": {},
   "outputs": [
    {
     "name": "stdout",
     "output_type": "stream",
     "text": [
      "ale \n",
      "A tale\n",
      "가리라.\n"
     ]
    }
   ],
   "source": [
    "txt1 = 'A tale that was not right'\n",
    "txt2 = '이 또한 지나가리라.'\n",
    "print(txt1[3:7])      # ‘ale ’이 출력됨\n",
    "print(txt1[:6])       # ‘A tale’ 이 출력됨\n",
    "print(txt2[-4:])      # ‘가리라.’가 출력됨"
   ]
  },
  {
   "cell_type": "markdown",
   "metadata": {},
   "source": [
    "## 홀수번째 문자만 출력"
   ]
  },
  {
   "cell_type": "code",
   "execution_count": 2,
   "metadata": {},
   "outputs": [
    {
     "name": "stdout",
     "output_type": "stream",
     "text": [
      "abcdefghijk\n"
     ]
    }
   ],
   "source": [
    "txt = 'aAbBcCdDeEfFgGhHiIjJkK'\n",
    "ret = txt[::2]\n",
    "print(ret)       # ‘abcdefghijk’ 가 출력됨"
   ]
  },
  {
   "cell_type": "markdown",
   "metadata": {},
   "source": [
    "## 문자열 꺼구로 만들기"
   ]
  },
  {
   "cell_type": "code",
   "execution_count": 3,
   "metadata": {},
   "outputs": [
    {
     "name": "stdout",
     "output_type": "stream",
     "text": [
      "kjihgfedcba\n"
     ]
    }
   ],
   "source": [
    "txt = 'abcdefghijk'\n",
    "ret = txt[::-1]\n",
    "print(ret)       # ‘kjihgfedcba’ 가 출력됨"
   ]
  },
  {
   "cell_type": "markdown",
   "metadata": {},
   "source": [
    "## 문자열 대소문자 변환"
   ]
  },
  {
   "cell_type": "code",
   "execution_count": 6,
   "metadata": {},
   "outputs": [
    {
     "name": "stdout",
     "output_type": "stream",
     "text": [
      "A LOT OF THINGS OCCUR EACH DAY.\n",
      "a lot of things occur each day.\n"
     ]
    }
   ],
   "source": [
    "txt = 'A lot of Things occur each day.'\n",
    "ret1 = txt.upper()\n",
    "ret2 = txt.lower()\n",
    "print(ret1)       # ‘A LOT OF THINGS OCCUR EACH DAY.’가 출력됨\n",
    "print(ret2)       # ‘a lot of things occur each day.’가 출력됨"
   ]
  },
  {
   "cell_type": "markdown",
   "metadata": {},
   "source": [
    "## 문자열 좌우 공백 제거"
   ]
  },
  {
   "cell_type": "code",
   "execution_count": 7,
   "metadata": {},
   "outputs": [
    {
     "name": "stdout",
     "output_type": "stream",
     "text": [
      "<   양쪽에 공백이 있는 문자열입니다.   >\n",
      "<양쪽에 공백이 있는 문자열입니다.   >\n",
      "<   양쪽에 공백이 있는 문자열입니다.>\n",
      "<양쪽에 공백이 있는 문자열입니다.>\n"
     ]
    }
   ],
   "source": [
    "txt = '   양쪽에 공백이 있는 문자열입니다.   '\n",
    "ret1 = txt.lstrip()\n",
    "ret2 = txt.rstrip()\n",
    "ret3 = txt.strip()\n",
    "print('<'+txt+'>')\n",
    "print('<'+ret1+'>')\n",
    "print('<'+ret2+'>')\n",
    "print('<'+ret3+'>')"
   ]
  },
  {
   "cell_type": "markdown",
   "metadata": {},
   "source": [
    "## 문자열 개수 구하기"
   ]
  },
  {
   "cell_type": "code",
   "execution_count": 8,
   "metadata": {},
   "outputs": [
    {
     "name": "stdout",
     "output_type": "stream",
     "text": [
      "3\n",
      "2\n",
      "8\n"
     ]
    }
   ],
   "source": [
    "txt = 'A lot of things occur each day, every day.'\n",
    "word_count1 = txt.count('o')\n",
    "word_count2 = txt.count('day')\n",
    "word_count3 = txt.count(' ')\n",
    "print(word_count1)  # 3이 출력됨\n",
    "print(word_count2)  # 2가 출력됨\n",
    "print(word_count3)  # 8이 출력됨"
   ]
  },
  {
   "cell_type": "markdown",
   "metadata": {},
   "source": [
    "## 특정문자열 위치 찾기"
   ]
  },
  {
   "cell_type": "code",
   "execution_count": 9,
   "metadata": {},
   "outputs": [
    {
     "name": "stdout",
     "output_type": "stream",
     "text": [
      "22\n",
      "27\n",
      "38\n"
     ]
    }
   ],
   "source": [
    "txt = 'A lot of things occur each day, every day.'\n",
    "offset1 = txt.find('e')\n",
    "offset2 = txt.find('day')\n",
    "offset3 = txt.find('day', 30) \n",
    "## 30번 인덱스 이후부터 'day'문자열 찾기 시작\n",
    "\n",
    "print(offset1)   # 22가 출력됨\n",
    "print(offset2)   # 27이 출력됨\n",
    "print(offset3)   # 38이 출력됨"
   ]
  },
  {
   "cell_type": "markdown",
   "metadata": {},
   "source": [
    "## 문자열 분리(split)"
   ]
  },
  {
   "cell_type": "code",
   "execution_count": 10,
   "metadata": {},
   "outputs": [
    {
     "name": "stdout",
     "output_type": "stream",
     "text": [
      "['http:', '', 'www.naver.com', 'news', 'today=20160831']\n",
      "name -> 홍길동\n",
      "age -> 17\n",
      "sex -> 남자\n",
      "nation -> 조선\n"
     ]
    }
   ],
   "source": [
    "url = 'http://www.naver.com/news/today=20160831'\n",
    "log = 'name:홍길동 age:17 sex:남자 nation:조선'\n",
    "\n",
    "ret1 = url.split('/')\n",
    "print(ret1)\n",
    "\n",
    "ret2 = log.split()\n",
    "for data in ret2:\n",
    "   d1, d2 = data.split(':')\n",
    "   print('%s -> %s' %(d1, d2))"
   ]
  },
  {
   "cell_type": "markdown",
   "metadata": {},
   "source": [
    "## 문자열 결합(join)"
   ]
  },
  {
   "cell_type": "code",
   "execution_count": 11,
   "metadata": {},
   "outputs": [
    {
     "name": "stdout",
     "output_type": "stream",
     "text": [
      "2016/08/26 10:12:11;200;OK;이 또한 지나가리라\n"
     ]
    }
   ],
   "source": [
    "loglist = ['2016/08/26 10:12:11', '200', 'OK', '이 또한 지나가리라']\n",
    "bond = ';'\n",
    "log = bond.join(loglist)\n",
    "print(log)"
   ]
  },
  {
   "cell_type": "markdown",
   "metadata": {},
   "source": [
    "## 문자열 바꾸기(replace)"
   ]
  },
  {
   "cell_type": "code",
   "execution_count": 12,
   "metadata": {},
   "outputs": [
    {
     "name": "stdout",
     "output_type": "stream",
     "text": [
      "My password is 0234\n",
      "My password is python234\n",
      "항상 많은 일들이 일어납니다.\n",
      "항상 많은 사건들이 사건어납니다.\n"
     ]
    }
   ],
   "source": [
    "txt = 'My password is 1234'\n",
    "ret1 = txt.replace('1', '0')\n",
    "ret2 = txt.replace('1', 'python')\n",
    "print(ret1)   # ‘My Password is 0234’가 출력됨\n",
    "print(ret2)   # ‘My Password is python234’가 출력됨\n",
    "\n",
    "txt = '매일 많은 일들이 일어납니다.'\n",
    "ret3 = txt.replace('매일', '항상')  \n",
    "ret4 = ret3.replace('일', '사건')\n",
    "print(ret3)   # ‘항상 많은 일들이 일어납니다.’가 출력됨\n",
    "print(ret4)   # ‘항상 많은 사건들이 사건어납니다.’가 출력됨"
   ]
  },
  {
   "cell_type": "markdown",
   "metadata": {},
   "source": [
    "## 문자열 정렬"
   ]
  },
  {
   "cell_type": "code",
   "execution_count": 15,
   "metadata": {},
   "outputs": [
    {
     "name": "stdout",
     "output_type": "stream",
     "text": [
      "정렬할 문자열을 입력하세요: ㄴㄷㄱㅁㅂ\n",
      "['ㄱ', 'ㄴ', 'ㄷ', 'ㅁ', 'ㅂ']\n",
      "['ㅂ', 'ㅁ', 'ㄷ', 'ㄴ', 'ㄱ']\n",
      "오름차순으로 정렬된 문자열은 <ㄱㄴㄷㅁㅂ> 입니다.\n",
      "내림차순으로 정렬된 문자열은 <ㅂㅁㄷㄴㄱ> 입니다.\n"
     ]
    }
   ],
   "source": [
    "strdata = input('정렬할 문자열을 입력하세요: ')\n",
    "ret1 = sorted(strdata)\n",
    "ret2 = sorted(strdata, reverse=True)\n",
    "print(ret1)\n",
    "print(ret2)\n",
    "ret1 = ''.join(ret1)\n",
    "ret2 = ''.join(ret2)\n",
    "print('오름차순으로 정렬된 문자열은 <' + ret1 + '> 입니다.')\n",
    "print('내림차순으로 정렬된 문자열은 <' + ret2 + '> 입니다.')"
   ]
  },
  {
   "cell_type": "markdown",
   "metadata": {},
   "source": [
    "# 리스트\n",
    "## 순차적인 정수 리스트"
   ]
  },
  {
   "cell_type": "code",
   "execution_count": 16,
   "metadata": {},
   "outputs": [
    {
     "name": "stdout",
     "output_type": "stream",
     "text": [
      "[0, 1, 2, 3, 4, 5, 6, 7, 8, 9]\n",
      "[10, 11, 12, 13, 14, 15, 16, 17, 18, 19]\n"
     ]
    }
   ],
   "source": [
    "range1 = range(10)\n",
    "range2 = range(10, 20)\n",
    "print(list(range1))   # [0 ,1, 2, 3, 4, 5, 6, 7, 8, 9]가 출력됨\n",
    "print(list(range2))   # [10, 11, 12, 13, 14, 15, 16, 17, 18, 19]가 출력됨"
   ]
  },
  {
   "cell_type": "markdown",
   "metadata": {},
   "source": [
    "## 리스트에서 특정 위치 요소 얻기"
   ]
  },
  {
   "cell_type": "code",
   "execution_count": 17,
   "metadata": {},
   "outputs": [
    {
     "name": "stdout",
     "output_type": "stream",
     "text": [
      "2\n",
      "b\n",
      "5\n"
     ]
    }
   ],
   "source": [
    "listdata = [1, 2, 'a', 'b', 'c', [4, 5, 6]]\n",
    "val1 = listdata[1]\n",
    "val2 = listdata[3]\n",
    "val3 = listdata[5][1]\n",
    "print(val1)   # 2가 출력됨\n",
    "print(val2)   # ‘b’가 출력됨\n",
    "print(val3)   # 5가 출력됨"
   ]
  },
  {
   "cell_type": "markdown",
   "metadata": {},
   "source": [
    "## 특정요소의 위치 구하기(index)"
   ]
  },
  {
   "cell_type": "code",
   "execution_count": 18,
   "metadata": {},
   "outputs": [
    {
     "name": "stdout",
     "output_type": "stream",
     "text": [
      "지구은(는) 태양계에서 3번째에 위치하고 있습니다.\n",
      "지구은(는) 태양계에서 9번째에 위치하고 있습니다.\n"
     ]
    }
   ],
   "source": [
    "solarsys = ['태양', '수성', '금성', '지구', '화성', '목성', '토성', '천왕성', '해왕성', '지구']\n",
    "planet = '지구'\n",
    "pos = solarsys.index(planet)\n",
    "print('%s은(는) 태양계에서 %d번째에 위치하고 있습니다.' %(planet, pos))\n",
    "pos = solarsys.index(planet, 5)\n",
    "print('%s은(는) 태양계에서 %d번째에 위치하고 있습니다.' %(planet, pos))"
   ]
  },
  {
   "cell_type": "markdown",
   "metadata": {},
   "source": [
    "## 특정위치 요소 변경"
   ]
  },
  {
   "cell_type": "code",
   "execution_count": 20,
   "metadata": {},
   "outputs": [
    {
     "name": "stdout",
     "output_type": "stream",
     "text": [
      "['태양', '수성', '금성', 'Mars', '화성', '목성', '토성', '천왕성', '해왕성']\n"
     ]
    }
   ],
   "source": [
    "solarsys = ['태양', '수성', '금성', '지구', '화성', '목성', '토성', '천왕성', '해왕성']\n",
    "planet = '화성'\n",
    "pos = solarsys.index(planet)\n",
    "solarsys [pos] = 'Mars'\n",
    "print(solarsys)"
   ]
  },
  {
   "cell_type": "markdown",
   "metadata": {},
   "source": [
    "## 특정 구간 요소 추출"
   ]
  },
  {
   "cell_type": "code",
   "execution_count": 21,
   "metadata": {},
   "outputs": [
    {
     "name": "stdout",
     "output_type": "stream",
     "text": [
      "태양계의 암석형 행성: ['수성', '금성', '지구']\n",
      "태양계의 가스형 행성: ['화성', '목성', '토성', '천왕성', '해왕성']\n"
     ]
    }
   ],
   "source": [
    "solarsys = ['태양', '수성', '금성', '지구', '화성', '목성', '토성', '천왕성', '해왕성']\n",
    "rock_planets = solarsys[1:4]\n",
    "gas_planets = solarsys[4:]\n",
    "print('태양계의 암석형 행성: ', end='');print(rock_planets)\n",
    "print('태양계의 가스형 행성: ', end='');print(gas_planets)"
   ]
  },
  {
   "cell_type": "markdown",
   "metadata": {},
   "source": [
    "## 짝수 번째 요소만 추출"
   ]
  },
  {
   "cell_type": "code",
   "execution_count": 24,
   "metadata": {},
   "outputs": [
    {
     "name": "stdout",
     "output_type": "stream",
     "text": [
      "[2, 4, 6, 8, 10, 12, 14, 16, 18, 20]\n"
     ]
    }
   ],
   "source": [
    "listdata = list(range(1, 21))\n",
    "evenlist = listdata[1::2]\n",
    "print(evenlist)"
   ]
  },
  {
   "cell_type": "markdown",
   "metadata": {},
   "source": [
    "## 요소 추가 (append)"
   ]
  },
  {
   "cell_type": "code",
   "execution_count": 26,
   "metadata": {},
   "outputs": [
    {
     "name": "stdout",
     "output_type": "stream",
     "text": [
      "리스트에 추가할 값을 입력하세요[1/3]: 안\n",
      "['안']\n",
      "리스트에 추가할 값을 입력하세요[2/3]: 녕\n",
      "['안', '녕']\n",
      "리스트에 추가할 값을 입력하세요[3/3]: 하\n",
      "['안', '녕', '하']\n"
     ]
    }
   ],
   "source": [
    "listdata = []\n",
    "for i in range(3):\n",
    "   txt = input('리스트에 추가할 값을 입력하세요[%d/3]: ' %(i+1))\n",
    "   listdata.append(txt)\n",
    "   print(listdata)"
   ]
  },
  {
   "cell_type": "markdown",
   "metadata": {},
   "source": [
    "## 특정위치 요소 삽입(insert)"
   ]
  },
  {
   "cell_type": "code",
   "execution_count": 29,
   "metadata": {},
   "outputs": [
    {
     "name": "stdout",
     "output_type": "stream",
     "text": [
      "['태양', '수성', '소행성', '금성', '지구', '화성', '목성', '토성', '천왕성', '해왕성']\n"
     ]
    }
   ],
   "source": [
    "solarsys = ['태양', '수성', '금성', '지구', '화성', '목성', '토성', '천왕성', '해왕성']\n",
    "pos = solarsys.index('목성')\n",
    "solarsys.insert(pos, '소행성')\n",
    "print(solarsys)"
   ]
  },
  {
   "cell_type": "markdown",
   "metadata": {},
   "source": [
    "## 특정위치 요소 제거(del)"
   ]
  },
  {
   "cell_type": "code",
   "execution_count": 30,
   "metadata": {},
   "outputs": [
    {
     "name": "stdout",
     "output_type": "stream",
     "text": [
      "['수성', '금성', '지구', '화성', '목성', '토성', '천왕성', '해왕성']\n",
      "['수성', '금성', '지구', '화성', '목성', '토성', '해왕성']\n"
     ]
    }
   ],
   "source": [
    "solarsys = ['태양', '수성', '금성', '지구', '화성', '목성', '토성', '천왕성', '해왕성']\n",
    "del solarsys[0]\n",
    "print(solarsys)\n",
    "del solarsys[-2]\n",
    "print(solarsys)"
   ]
  },
  {
   "cell_type": "markdown",
   "metadata": {},
   "source": [
    "## 특정 요소 제거(remove)"
   ]
  },
  {
   "cell_type": "code",
   "execution_count": 32,
   "metadata": {},
   "outputs": [
    {
     "name": "stdout",
     "output_type": "stream",
     "text": [
      "['수성', '금성', '지구', '화성', '목성', '토성', '천왕성', '해왕성']\n"
     ]
    }
   ],
   "source": [
    "solarsys = ['태양', '수성', '금성', '지구', '화성', '목성', '토성', '천왕성', '해왕성']\n",
    "solarsys.remove('태양')\n",
    "print(solarsys)"
   ]
  },
  {
   "cell_type": "markdown",
   "metadata": {},
   "source": [
    "## 특정 구간 요소 제거"
   ]
  },
  {
   "cell_type": "code",
   "execution_count": 33,
   "metadata": {},
   "outputs": [
    {
     "name": "stdout",
     "output_type": "stream",
     "text": [
      "['태양', '지구', '화성', '목성', '토성', '천왕성', '해왕성']\n"
     ]
    }
   ],
   "source": [
    "solarsys = ['태양', '수성', '금성', '지구', '화성', '목성', '토성', '천왕성', '해왕성']\n",
    "del solarsys[1:3]\n",
    "print(solarsys)"
   ]
  },
  {
   "cell_type": "markdown",
   "metadata": {},
   "source": [
    "## 특정 요소 개수 구하기"
   ]
  },
  {
   "cell_type": "code",
   "execution_count": 34,
   "metadata": {},
   "outputs": [
    {
     "name": "stdout",
     "output_type": "stream",
     "text": [
      "3\n",
      "1\n"
     ]
    }
   ],
   "source": [
    "listdata = [2, 2, 1, 3, 8, 5, 7, 6, 3, 6, 2, 3, 9, 4, 4]\n",
    "c1 = listdata.count(2)\n",
    "c2 = listdata.count(7)\n",
    "print(c1)    # 3이 출력됨\n",
    "print(c2)    # 1이 출력됨"
   ]
  },
  {
   "cell_type": "markdown",
   "metadata": {},
   "source": [
    "## 리스트 제거"
   ]
  },
  {
   "cell_type": "code",
   "execution_count": 35,
   "metadata": {},
   "outputs": [
    {
     "ename": "NameError",
     "evalue": "name 'listdata' is not defined",
     "output_type": "error",
     "traceback": [
      "\u001b[1;31m---------------------------------------------------------------------------\u001b[0m",
      "\u001b[1;31mNameError\u001b[0m                                 Traceback (most recent call last)",
      "\u001b[1;32m<ipython-input-35-2443101a1406>\u001b[0m in \u001b[0;36m<module>\u001b[1;34m()\u001b[0m\n\u001b[0;32m      1\u001b[0m \u001b[0mlistdata\u001b[0m \u001b[1;33m=\u001b[0m \u001b[1;33m[\u001b[0m\u001b[1;36m2\u001b[0m\u001b[1;33m,\u001b[0m \u001b[1;36m2\u001b[0m\u001b[1;33m,\u001b[0m \u001b[1;36m1\u001b[0m\u001b[1;33m,\u001b[0m \u001b[1;36m3\u001b[0m\u001b[1;33m,\u001b[0m \u001b[1;36m8\u001b[0m\u001b[1;33m,\u001b[0m \u001b[1;36m5\u001b[0m\u001b[1;33m,\u001b[0m \u001b[1;36m7\u001b[0m\u001b[1;33m,\u001b[0m \u001b[1;36m6\u001b[0m\u001b[1;33m,\u001b[0m \u001b[1;36m3\u001b[0m\u001b[1;33m,\u001b[0m \u001b[1;36m6\u001b[0m\u001b[1;33m,\u001b[0m \u001b[1;36m2\u001b[0m\u001b[1;33m,\u001b[0m \u001b[1;36m3\u001b[0m\u001b[1;33m,\u001b[0m \u001b[1;36m9\u001b[0m\u001b[1;33m,\u001b[0m \u001b[1;36m4\u001b[0m\u001b[1;33m,\u001b[0m \u001b[1;36m4\u001b[0m\u001b[1;33m]\u001b[0m\u001b[1;33m\u001b[0m\u001b[0m\n\u001b[0;32m      2\u001b[0m \u001b[1;32mdel\u001b[0m \u001b[0mlistdata\u001b[0m\u001b[1;33m\u001b[0m\u001b[0m\n\u001b[1;32m----> 3\u001b[1;33m \u001b[0mprint\u001b[0m\u001b[1;33m(\u001b[0m\u001b[0mlistdata\u001b[0m\u001b[1;33m)\u001b[0m\u001b[1;33m\u001b[0m\u001b[0m\n\u001b[0m",
      "\u001b[1;31mNameError\u001b[0m: name 'listdata' is not defined"
     ]
    }
   ],
   "source": [
    "listdata = [2, 2, 1, 3, 8, 5, 7, 6, 3, 6, 2, 3, 9, 4, 4]\n",
    "del listdata\n",
    "print(listdata)"
   ]
  },
  {
   "cell_type": "markdown",
   "metadata": {},
   "source": [
    "## 정렬 sort"
   ]
  },
  {
   "cell_type": "code",
   "execution_count": 36,
   "metadata": {},
   "outputs": [
    {
     "name": "stdout",
     "output_type": "stream",
     "text": [
      "['Aimy', 'Bob', 'Kelly', 'Mary', 'Michale', 'Sams', 'Tom']\n"
     ]
    }
   ],
   "source": [
    "# 정렬 1\n",
    "namelist = ['Mary', 'Sams', 'Aimy', 'Tom', 'Michale', 'Bob', 'Kelly']\n",
    "namelist.sort()\n",
    "print(namelist)"
   ]
  },
  {
   "cell_type": "code",
   "execution_count": 37,
   "metadata": {},
   "outputs": [
    {
     "name": "stdout",
     "output_type": "stream",
     "text": [
      "['Mary', 'Sams', 'Aimy', 'Tom', 'Michale', 'Bob', 'Kelly']\n",
      "['Aimy', 'Bob', 'Kelly', 'Mary', 'Michale', 'Sams', 'Tom']\n",
      "['Tom', 'Sams', 'Michale', 'Mary', 'Kelly', 'Bob', 'Aimy']\n"
     ]
    }
   ],
   "source": [
    "# 정렬 2 (sorted)\n",
    "namelist = ['Mary', 'Sams', 'Aimy', 'Tom', 'Michale', 'Bob', 'Kelly']\n",
    "ret1 = sorted(namelist)\n",
    "ret2 = sorted(namelist, reverse=True)\n",
    "print(namelist)\n",
    "print(ret1)\n",
    "print(ret2)"
   ]
  },
  {
   "cell_type": "code",
   "execution_count": 39,
   "metadata": {},
   "outputs": [
    {
     "name": "stdout",
     "output_type": "stream",
     "text": [
      "[6, 1, 10, 3, 5, 8, 2, 9, 4, 7]\n",
      "[8, 5, 4, 7, 1, 3, 10, 6, 2, 9]\n",
      "[4, 7, 6, 2, 9, 3, 8, 1, 5, 10]\n"
     ]
    }
   ],
   "source": [
    "# 섞기 (shuffle)\n",
    "from random import shuffle\n",
    "\n",
    "listdata = list(range(1, 11))\n",
    "for i in range(3):\n",
    "   shuffle(listdata)\n",
    "   print(listdata)    # 출력 결과는 실행할 때마다 달라짐"
   ]
  },
  {
   "cell_type": "markdown",
   "metadata": {},
   "source": [
    "## 인덱스와 쌍으로 추출하기(enumerate)"
   ]
  },
  {
   "cell_type": "code",
   "execution_count": 40,
   "metadata": {},
   "outputs": [
    {
     "name": "stdout",
     "output_type": "stream",
     "text": [
      "[(0, '태양'), (1, '수성'), (2, '금성'), (3, '지구'), (4, '화성'), (5, '목성'), (6, '토성'), (7, '천왕성'), (8, '해왕성')]\n",
      "태양계의 0번째 천체: 태양\n",
      "태양계의 1번째 천체: 수성\n",
      "태양계의 2번째 천체: 금성\n",
      "태양계의 3번째 천체: 지구\n",
      "태양계의 4번째 천체: 화성\n",
      "태양계의 5번째 천체: 목성\n",
      "태양계의 6번째 천체: 토성\n",
      "태양계의 7번째 천체: 천왕성\n",
      "태양계의 8번째 천체: 해왕성\n"
     ]
    }
   ],
   "source": [
    "solarsys = ['태양', '수성', '금성', '지구', '화성', '목성', '토성', '천왕성', '해왕성']\n",
    "ret = list(enumerate(solarsys))\n",
    "print(ret)\n",
    "\n",
    "for i, body in enumerate(solarsys):\n",
    "   print('태양계의 %d번째 천체: %s' %(i, body))"
   ]
  },
  {
   "cell_type": "markdown",
   "metadata": {},
   "source": [
    "## 합구하기"
   ]
  },
  {
   "cell_type": "code",
   "execution_count": 41,
   "metadata": {},
   "outputs": [
    {
     "name": "stdout",
     "output_type": "stream",
     "text": [
      "65\n"
     ]
    }
   ],
   "source": [
    "listdata = [2, 2, 1, 3, 8, 5, 7, 6, 3, 6, 2, 3, 9, 4, 4]\n",
    "ret = sum(listdata)\n",
    "print(ret)    # 65가 출력됨"
   ]
  },
  {
   "cell_type": "code",
   "execution_count": null,
   "metadata": {},
   "outputs": [],
   "source": []
  },
  {
   "cell_type": "code",
   "execution_count": null,
   "metadata": {},
   "outputs": [],
   "source": []
  }
 ],
 "metadata": {
  "kernelspec": {
   "display_name": "Python 3",
   "language": "python",
   "name": "python3"
  },
  "language_info": {
   "codemirror_mode": {
    "name": "ipython",
    "version": 3
   },
   "file_extension": ".py",
   "mimetype": "text/x-python",
   "name": "python",
   "nbconvert_exporter": "python",
   "pygments_lexer": "ipython3",
   "version": "3.7.4"
  }
 },
 "nbformat": 4,
 "nbformat_minor": 2
}
