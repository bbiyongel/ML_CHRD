{
 "cells": [
  {
   "cell_type": "markdown",
   "metadata": {},
   "source": [
    "# 사전\n",
    "## 요소 추가"
   ]
  },
  {
   "cell_type": "code",
   "execution_count": 2,
   "metadata": {},
   "outputs": [
    {
     "name": "stdout",
     "output_type": "stream",
     "text": [
      "{'태양': 'Sun', '수성': 'Mercury', '금성': 'Venus', '지구': 'Earth', '화성': 'Mars', '목성': 'Jupiter', '토성': 'Saturn', '천왕성': 'Uranus', '해왕성': 'Neptune'}\n"
     ]
    }
   ],
   "source": [
    "solar1 = ['태양', '수성', '금성', '지구', '화성', '목성', '토성', '천왕성', '해왕성']\n",
    "solar2 = ['Sun', 'Mercury', 'Venus', 'Earth', 'Mars', 'Jupiter', 'Saturn', 'Uranus', 'Neptune']\n",
    "solardict = {}\n",
    "for i, k in enumerate(solar1):\n",
    "   val = solar2[i]\n",
    "   solardict[k] = val\n",
    "\n",
    "print(solardict)"
   ]
  },
  {
   "cell_type": "markdown",
   "metadata": {},
   "source": [
    "## 특정 요소값 변경하기"
   ]
  },
  {
   "cell_type": "code",
   "execution_count": 1,
   "metadata": {},
   "outputs": [
    {
     "name": "stdout",
     "output_type": "stream",
     "text": [
      "{'Mary': 10999, 'Sams': 2111, 'Aimy': 10000, 'Tom': 20245, 'Michale': 27115, 'Bob': 5887, 'Kelly': 7855}\n"
     ]
    }
   ],
   "source": [
    "names = {'Mary':10999, 'Sams':2111, 'Aimy':9778, 'Tom':20245, \n",
    "'Michale':27115, 'Bob':5887, 'Kelly':7855}\n",
    "names['Aimy'] = 10000\n",
    "print(names)"
   ]
  },
  {
   "cell_type": "markdown",
   "metadata": {},
   "source": [
    "## 특정 요소 제거하기"
   ]
  },
  {
   "cell_type": "code",
   "execution_count": 2,
   "metadata": {},
   "outputs": [
    {
     "name": "stdout",
     "output_type": "stream",
     "text": [
      "{'Mary': 10999, 'Aimy': 9778, 'Tom': 20245, 'Michale': 27115, 'Bob': 5887, 'Kelly': 7855}\n"
     ]
    }
   ],
   "source": [
    "names = {'Mary':10999, 'Sams':2111, 'Aimy':9778, 'Tom':20245, \n",
    "'Michale':27115, 'Bob':5887, 'Kelly':7855}\n",
    "del names['Sams']\n",
    "print(names)"
   ]
  },
  {
   "cell_type": "markdown",
   "metadata": {},
   "source": [
    "## 모든 요소 제거하기"
   ]
  },
  {
   "cell_type": "code",
   "execution_count": 3,
   "metadata": {},
   "outputs": [
    {
     "name": "stdout",
     "output_type": "stream",
     "text": [
      "{}\n"
     ]
    }
   ],
   "source": [
    "names = {'Mary':10999, 'Sams':2111, 'Aimy':9778, 'Tom':20245, \n",
    "'Michale':27115, 'Bob':5887, 'Kelly':7855}\n",
    "names.clear()\n",
    "print(names)"
   ]
  },
  {
   "cell_type": "markdown",
   "metadata": {},
   "source": [
    "## 키만 추출하기(keys)"
   ]
  },
  {
   "cell_type": "code",
   "execution_count": 4,
   "metadata": {},
   "outputs": [
    {
     "name": "stdout",
     "output_type": "stream",
     "text": [
      "dict_keys(['Mary', 'Sams', 'Aimy', 'Tom', 'Michale', 'Bob', 'Kelly'])\n",
      "Key:Mary \tValue:10999\n",
      "Key:Sams \tValue:2111\n",
      "Key:Aimy \tValue:9778\n",
      "Key:Tom \tValue:20245\n",
      "Key:Michale \tValue:27115\n",
      "Key:Bob \tValue:5887\n",
      "Key:Kelly \tValue:7855\n"
     ]
    }
   ],
   "source": [
    "names = {'Mary':10999, 'Sams':2111, 'Aimy':9778, 'Tom':20245, \n",
    "'Michale':27115, 'Bob':5887, 'Kelly':7855}\n",
    "ks = names.keys()\n",
    "print(ks)\n",
    "\n",
    "for k in ks:\n",
    "   print('Key:%s \\tValue:%d' %(k, names[k]))"
   ]
  },
  {
   "cell_type": "markdown",
   "metadata": {},
   "source": [
    "## 값만 추출하기(values)"
   ]
  },
  {
   "cell_type": "code",
   "execution_count": 5,
   "metadata": {},
   "outputs": [
    {
     "name": "stdout",
     "output_type": "stream",
     "text": [
      "dict_values([10999, 2111, 9778, 20245, 27115, 5887, 7855])\n",
      "출생아수 총계: 83990\n"
     ]
    }
   ],
   "source": [
    "names = {'Mary':10999, 'Sams':2111, 'Aimy':9778, 'Tom':20245, \n",
    "'Michale':27115, 'Bob':5887, 'Kelly':7855}\n",
    "vals = names.values()\n",
    "print(vals)\n",
    "\n",
    "vals_list = list(vals)\n",
    "ret = sum(vals_list)\n",
    "print('출생아수 총계: %d' %ret)"
   ]
  },
  {
   "cell_type": "markdown",
   "metadata": {},
   "source": [
    "## 사전 요소를 모두 추출하기"
   ]
  },
  {
   "cell_type": "code",
   "execution_count": 6,
   "metadata": {},
   "outputs": [
    {
     "name": "stdout",
     "output_type": "stream",
     "text": [
      "dict_items([('Mary', 10999), ('Sams', 2111), ('Aimy', 9778), ('Tom', 20245), ('Michale', 27115), ('Bob', 5887), ('Kelly', 7855)])\n",
      "('Mary', 10999)\n",
      "('Sams', 2111)\n",
      "('Aimy', 9778)\n",
      "('Tom', 20245)\n",
      "('Michale', 27115)\n",
      "('Bob', 5887)\n",
      "('Kelly', 7855)\n"
     ]
    }
   ],
   "source": [
    "names = {'Mary':10999, 'Sams':2111, 'Aimy':9778, 'Tom':20245, \n",
    "'Michale':27115, 'Bob':5887, 'Kelly':7855}\n",
    "items = names.items()\n",
    "print(items)\n",
    "\n",
    "for item in items:\n",
    "   print(item)"
   ]
  },
  {
   "cell_type": "markdown",
   "metadata": {},
   "source": [
    "## 특정키 존재 확인(in)"
   ]
  },
  {
   "cell_type": "code",
   "execution_count": 8,
   "metadata": {},
   "outputs": [
    {
     "name": "stdout",
     "output_type": "stream",
     "text": [
      "이름을 입력하세요: dd\n",
      "자료에 <dd>인 이름이 존재하지 않습니다.\n"
     ]
    }
   ],
   "source": [
    "names = {'Mary':10999, 'Sams':2111, 'Aimy':9778, 'Tom':20245, \n",
    "'Michale':27115, 'Bob':5887, 'Kelly':7855}\n",
    "k = input('이름을 입력하세요: ')\n",
    "if k in names:\n",
    "   print('이름이 <%s>인 출생아수는 <%d>명 입니다.' %(k, names[k]))\n",
    "else:\n",
    "   print('자료에 <%s>인 이름이 존재하지 않습니다.' %k)"
   ]
  },
  {
   "cell_type": "markdown",
   "metadata": {},
   "source": [
    "## 사전 정렬하기(sort)"
   ]
  },
  {
   "cell_type": "code",
   "execution_count": 9,
   "metadata": {},
   "outputs": [
    {
     "name": "stdout",
     "output_type": "stream",
     "text": [
      "['Aimy', 'Bob', 'Kelly', 'Mary', 'Michale', 'Sams', 'Tom']\n",
      "[('Aimy', 9778), ('Bob', 5887), ('Kelly', 7855), ('Mary', 10999), ('Michale', 27115), ('Sams', 2111), ('Tom', 20245)]\n",
      "[('Sams', 2111), ('Bob', 5887), ('Kelly', 7855), ('Aimy', 9778), ('Mary', 10999), ('Tom', 20245), ('Michale', 27115)]\n",
      "[('Michale', 27115), ('Tom', 20245), ('Mary', 10999), ('Aimy', 9778), ('Kelly', 7855), ('Bob', 5887), ('Sams', 2111)]\n"
     ]
    }
   ],
   "source": [
    "names = {'Mary':10999, 'Sams':2111, 'Aimy':9778, 'Tom':20245, \n",
    "'Michale':27115, 'Bob':5887, 'Kelly':7855}\n",
    "ret1 = sorted(names)\n",
    "print(ret1)\n",
    "\n",
    "def f1(x):\n",
    "   return x[0]\n",
    "\n",
    "def f2(x):\n",
    "   return x[1]\n",
    "\n",
    "ret2 = sorted(names.items(), key=f1) # 키를 기준으로 정렬\n",
    "print(ret2)\n",
    "\n",
    "ret3 = sorted(names.items(), key=f2) # 값을 기준으로 정렬\n",
    "print(ret3)\n",
    "\n",
    "ret4 = sorted(names.items(), key=f2, reverse=True)\n",
    "print(ret4)"
   ]
  },
  {
   "cell_type": "markdown",
   "metadata": {},
   "source": [
    "## 문자열로 된 식을 실행하기"
   ]
  },
  {
   "cell_type": "code",
   "execution_count": 4,
   "metadata": {},
   "outputs": [
    {
     "name": "stdout",
     "output_type": "stream",
     "text": [
      "<2+3>를 eval()로 실행한 결과:  5\n",
      "<round(3.7)>를 eval()로 실행한 결과:  4\n"
     ]
    }
   ],
   "source": [
    "expr1 = '2+3'\n",
    "expr2 = 'round(3.7)'\n",
    "ret1 = eval(expr1)\n",
    "ret2 = eval(expr2)\n",
    "print('<%s>를 eval()로 실행한 결과: ' %expr1, end=' '); print(ret1)\n",
    "print('<%s>를 eval()로 실행한 결과: ' %expr2, end=' '); print(ret2)"
   ]
  },
  {
   "cell_type": "markdown",
   "metadata": {},
   "source": [
    "## 이름없는 함수 만들기(lambda)"
   ]
  },
  {
   "cell_type": "code",
   "execution_count": 15,
   "metadata": {},
   "outputs": [
    {
     "name": "stdout",
     "output_type": "stream",
     "text": [
      "4\n",
      "Intro.pptx\n",
      "Report.docx\n",
      "[('Aimy', 9778), ('Bob', 5887), ('Kelly', 7855), ('Mary', 10999), ('Michale', 27115), ('Sams', 2111), ('Tom', 20245)]\n"
     ]
    }
   ],
   "source": [
    "add = lambda x, y: x+y\n",
    "ret = add(1, 3)\n",
    "print(ret)    # 4가 출력됨\n",
    "\n",
    "funcs = [lambda x: x+'.pptx', lambda x: x+'.docx']\n",
    "ret1 = funcs[0]('Intro')\n",
    "ret2 = funcs[1]('Report')\n",
    "print(ret1)   # intro.pptx가 출력됨\n",
    "print(ret2)   # Report.docx가 출력됨\n",
    "\n",
    "names = {'Mary':10999, 'Sams':2111, 'Aimy':9778, 'Tom':20245, 'Michale':27115,\n",
    "          'Bob':5887, 'Kelly':7855}\n",
    "ret3 = sorted(names.items(), key=lambda x: x[0])\n",
    "print(ret3)"
   ]
  },
  {
   "cell_type": "markdown",
   "metadata": {},
   "source": [
    "## 인자를 바꾸면서 함수 반복 호출"
   ]
  },
  {
   "cell_type": "code",
   "execution_count": 17,
   "metadata": {},
   "outputs": [
    {
     "name": "stdout",
     "output_type": "stream",
     "text": [
      "[1, 4, 9, 16, 25]\n"
     ]
    }
   ],
   "source": [
    "f = lambda x: x*x\n",
    "args = [1, 2, 3, 4, 5]\n",
    "ret = map(f, args) \n",
    "# 파이썬 내장함수 map()은 집합 A와 함수 f가 주어지면\n",
    "# 집합 B를 구해주는 함수와 동일한 역할 수행\n",
    "print(list(ret))"
   ]
  },
  {
   "cell_type": "code",
   "execution_count": 18,
   "metadata": {},
   "outputs": [
    {
     "name": "stdout",
     "output_type": "stream",
     "text": [
      "[11, 13, 17, 23, 31]\n"
     ]
    }
   ],
   "source": [
    "f = lambda x, y: x*x + y\n",
    "X = [1,2,3,4,5]\n",
    "Y = [10,9,8,7,6]\n",
    "ret = map(f, X, Y)\n",
    "print(list(ret))"
   ]
  },
  {
   "cell_type": "markdown",
   "metadata": {},
   "source": [
    "## 계산 맞히기 게임 만들기"
   ]
  },
  {
   "cell_type": "code",
   "execution_count": 36,
   "metadata": {},
   "outputs": [],
   "source": [
    "# 프로젝트1 :계산 문제를 맞추는 게임\n",
    "import random\n",
    "\n",
    "def make_question():\n",
    "    a = random.randint(1, 40)   # 1~40 사이의 임의의 수를 a에 저장합니다.\n",
    "    b = random.randint(1, 20)   # 1~20 사이의 임의의 수를 b에 저장합니다.\n",
    "    op = random.randint(1, 3)   # 1~3 사이의 임의의 수를 op에 저장합니다.\n",
    "\n",
    "    # 문자열 변수 q에 문제를 만듭니다.\n",
    "    # 첫 번째 숫자를 q에 저장합니다.\n",
    "    q = str(a)                  # a 값(정수)을 문자열로 바꾸어 저장합니다.\n",
    "\n",
    "    # 연산자를 추가합니다.\n",
    "    if op == 1:                 # op 값이 1이면 덧셈 문제로 만듭니다.\n",
    "        q = q + \"+\"\n",
    "    if op == 2:                 # op 값이 2이면 뺄셈 문제로 만듭니다.\n",
    "        q = q + \"-\"\n",
    "                                # op 값이 3이면 곱셈 문제로 만듭니다.\n",
    "\n",
    "    # 두 번째 숫자를 q에 저장합니다.\n",
    "    q = q + str(b)              # b 값(정수)을 문자열로 바꾸어 q에 추가합니다.\n",
    "\n",
    "    # 만들어진 문제를 돌려줍니다.\n",
    "    return q"
   ]
  },
  {
   "cell_type": "code",
   "execution_count": 34,
   "metadata": {},
   "outputs": [
    {
     "name": "stdout",
     "output_type": "stream",
     "text": [
      "3+7\n",
      "=10\n",
      "정답!\n",
      "17*18\n",
      "=306\n",
      "정답!\n",
      "7*13\n",
      "=91\n",
      "정답!\n",
      "11+14\n",
      "=25\n",
      "정답!\n",
      "14*17\n",
      "=238\n",
      "정답!\n"
     ]
    }
   ],
   "source": [
    "# 정답/오답 횟수를 저장할 변수 sc1과 sc2를 0으로 초기화합니다.\n",
    "sc1 = 0\n",
    "sc2 = 0\n",
    "\n",
    "for x in                    # 다섯 문제를 풀어봅니다.\n",
    "    q = make_question()     # 문제를 만듭니다.\n",
    "    print(q)                # 문제를 출력합니다.\n",
    "    ans = input(\"=\")        # 사용자에게 정답을 입력받습니다.\n",
    "    r = int(ans)            # 입력받은 정답을 정수로 바꿉니다.\n",
    "\n",
    "    # 문제 q를 컴퓨터가 계산한 결과와 사용자가 입력한 결과(r)를 비교합니다.\n",
    "    if \n",
    "        print(\"정답!\")\n",
    "        sc1 = sc1 + 1\n",
    "    else:\n",
    "        print(\"오답!\")\n",
    "        sc2 = sc2 + 1"
   ]
  },
  {
   "cell_type": "code",
   "execution_count": 35,
   "metadata": {},
   "outputs": [
    {
     "name": "stdout",
     "output_type": "stream",
     "text": [
      "정답: 5 오답: 0\n",
      "당신은 천재입니다!\n"
     ]
    }
   ],
   "source": [
    "print(\"정답:\", sc1, \"오답:\", sc2)\n",
    "if                 # 오답이 0개일 때(전부 정답을 맞췄을 때)\n",
    "    print(\"당신은 천재입니다!\")"
   ]
  },
  {
   "cell_type": "code",
   "execution_count": null,
   "metadata": {},
   "outputs": [],
   "source": []
  }
 ],
 "metadata": {
  "kernelspec": {
   "display_name": "Python 3",
   "language": "python",
   "name": "python3"
  },
  "language_info": {
   "codemirror_mode": {
    "name": "ipython",
    "version": 3
   },
   "file_extension": ".py",
   "mimetype": "text/x-python",
   "name": "python",
   "nbconvert_exporter": "python",
   "pygments_lexer": "ipython3",
   "version": "3.6.4"
  }
 },
 "nbformat": 4,
 "nbformat_minor": 2
}
