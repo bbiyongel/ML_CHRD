{
 "cells": [
  {
   "cell_type": "code",
   "execution_count": 2,
   "metadata": {},
   "outputs": [
    {
     "name": "stderr",
     "output_type": "stream",
     "text": [
      "C:\\Users\\kduar_000\\Anaconda3\\lib\\site-packages\\nltk\\twitter\\__init__.py:20: UserWarning: The twython library has not been installed. Some functionality from the twitter package will not be available.\n",
      "  warnings.warn(\"The twython library has not been installed. \"\n"
     ]
    },
    {
     "name": "stdout",
     "output_type": "stream",
     "text": [
      "[nltk_data] Downloading package vader_lexicon to\n",
      "[nltk_data]     C:\\Users\\kduar_000\\AppData\\Roaming\\nltk_data...\n",
      "[nltk_data]   Package vader_lexicon is already up-to-date!\n"
     ]
    },
    {
     "data": {
      "text/plain": [
       "True"
      ]
     },
     "execution_count": 2,
     "metadata": {},
     "output_type": "execute_result"
    }
   ],
   "source": [
    "import numpy as np\n",
    "import pandas as pd\n",
    "from nltk.sentiment.vader import SentimentIntensityAnalyzer\n",
    "import matplotlib.pyplot as plt\n",
    "%matplotlib inline\n",
    "import nltk\n",
    "nltk.download('vader_lexicon')"
   ]
  },
  {
   "cell_type": "code",
   "execution_count": 2,
   "metadata": {},
   "outputs": [],
   "source": [
    "# python3 -m pip install --upgrade pandas pip"
   ]
  },
  {
   "cell_type": "code",
   "execution_count": 24,
   "metadata": {},
   "outputs": [
    {
     "data": {
      "text/html": [
       "<div>\n",
       "<style scoped>\n",
       "    .dataframe tbody tr th:only-of-type {\n",
       "        vertical-align: middle;\n",
       "    }\n",
       "\n",
       "    .dataframe tbody tr th {\n",
       "        vertical-align: top;\n",
       "    }\n",
       "\n",
       "    .dataframe thead th {\n",
       "        text-align: right;\n",
       "    }\n",
       "</style>\n",
       "<table border=\"1\" class=\"dataframe\">\n",
       "  <thead>\n",
       "    <tr style=\"text-align: right;\">\n",
       "      <th></th>\n",
       "      <th>Open</th>\n",
       "      <th>High</th>\n",
       "      <th>Low</th>\n",
       "      <th>Close</th>\n",
       "      <th>Adj Close</th>\n",
       "      <th>Volume</th>\n",
       "      <th>headline.main</th>\n",
       "    </tr>\n",
       "  </thead>\n",
       "  <tbody>\n",
       "    <tr>\n",
       "      <th>2007-01-01</th>\n",
       "      <td>12475.916211</td>\n",
       "      <td>12558.621875</td>\n",
       "      <td>12423.344141</td>\n",
       "      <td>12469.971875</td>\n",
       "      <td>12469.971875</td>\n",
       "      <td>260944000.0</td>\n",
       "      <td>Estimates of Iraqi Civilian Deaths Romania and...</td>\n",
       "    </tr>\n",
       "    <tr>\n",
       "      <th>2007-01-02</th>\n",
       "      <td>12467.728125</td>\n",
       "      <td>12569.485742</td>\n",
       "      <td>12414.082227</td>\n",
       "      <td>12472.245703</td>\n",
       "      <td>12472.245703</td>\n",
       "      <td>294072000.0</td>\n",
       "      <td>For Dodd, Wall Street Looms Large Ford's Lost ...</td>\n",
       "    </tr>\n",
       "    <tr>\n",
       "      <th>2007-01-03</th>\n",
       "      <td>12459.540039</td>\n",
       "      <td>12580.349609</td>\n",
       "      <td>12404.820313</td>\n",
       "      <td>12474.519531</td>\n",
       "      <td>12474.519531</td>\n",
       "      <td>327200000.0</td>\n",
       "      <td>Ethics Changes Proposed for House Trips, K Str...</td>\n",
       "    </tr>\n",
       "    <tr>\n",
       "      <th>2007-01-04</th>\n",
       "      <td>12473.160156</td>\n",
       "      <td>12510.410156</td>\n",
       "      <td>12403.860352</td>\n",
       "      <td>12480.690430</td>\n",
       "      <td>12480.690430</td>\n",
       "      <td>259060000.0</td>\n",
       "      <td>I Feel Bad About My Face Bush Recycles the Tra...</td>\n",
       "    </tr>\n",
       "    <tr>\n",
       "      <th>2007-01-05</th>\n",
       "      <td>12480.049805</td>\n",
       "      <td>12480.129883</td>\n",
       "      <td>12365.410156</td>\n",
       "      <td>12398.009766</td>\n",
       "      <td>12398.009766</td>\n",
       "      <td>235220000.0</td>\n",
       "      <td>Macworld Bingo Anti-Surge Protests Against McC...</td>\n",
       "    </tr>\n",
       "  </tbody>\n",
       "</table>\n",
       "</div>"
      ],
      "text/plain": [
       "                    Open          High           Low         Close  \\\n",
       "2007-01-01  12475.916211  12558.621875  12423.344141  12469.971875   \n",
       "2007-01-02  12467.728125  12569.485742  12414.082227  12472.245703   \n",
       "2007-01-03  12459.540039  12580.349609  12404.820313  12474.519531   \n",
       "2007-01-04  12473.160156  12510.410156  12403.860352  12480.690430   \n",
       "2007-01-05  12480.049805  12480.129883  12365.410156  12398.009766   \n",
       "\n",
       "               Adj Close       Volume  \\\n",
       "2007-01-01  12469.971875  260944000.0   \n",
       "2007-01-02  12472.245703  294072000.0   \n",
       "2007-01-03  12474.519531  327200000.0   \n",
       "2007-01-04  12480.690430  259060000.0   \n",
       "2007-01-05  12398.009766  235220000.0   \n",
       "\n",
       "                                                headline.main  \n",
       "2007-01-01  Estimates of Iraqi Civilian Deaths Romania and...  \n",
       "2007-01-02  For Dodd, Wall Street Looms Large Ford's Lost ...  \n",
       "2007-01-03  Ethics Changes Proposed for House Trips, K Str...  \n",
       "2007-01-04  I Feel Bad About My Face Bush Recycles the Tra...  \n",
       "2007-01-05  Macworld Bingo Anti-Surge Protests Against McC...  "
      ]
     },
     "execution_count": 24,
     "metadata": {},
     "output_type": "execute_result"
    }
   ],
   "source": [
    "df = pd.read_pickle('data/raw_sample_KDU.pkl')\n",
    "df.head()"
   ]
  },
  {
   "cell_type": "code",
   "execution_count": 4,
   "metadata": {},
   "outputs": [
    {
     "data": {
      "text/plain": [
       "(3651, 7)"
      ]
     },
     "execution_count": 4,
     "metadata": {},
     "output_type": "execute_result"
    }
   ],
   "source": [
    "df.shape"
   ]
  },
  {
   "cell_type": "code",
   "execution_count": 5,
   "metadata": {},
   "outputs": [],
   "source": [
    "sent = SentimentIntensityAnalyzer()"
   ]
  },
  {
   "cell_type": "code",
   "execution_count": 14,
   "metadata": {},
   "outputs": [
    {
     "data": {
      "text/html": [
       "<div>\n",
       "<style scoped>\n",
       "    .dataframe tbody tr th:only-of-type {\n",
       "        vertical-align: middle;\n",
       "    }\n",
       "\n",
       "    .dataframe tbody tr th {\n",
       "        vertical-align: top;\n",
       "    }\n",
       "\n",
       "    .dataframe thead th {\n",
       "        text-align: right;\n",
       "    }\n",
       "</style>\n",
       "<table border=\"1\" class=\"dataframe\">\n",
       "  <thead>\n",
       "    <tr style=\"text-align: right;\">\n",
       "      <th></th>\n",
       "      <th>neg</th>\n",
       "      <th>neu</th>\n",
       "      <th>pos</th>\n",
       "      <th>compound</th>\n",
       "    </tr>\n",
       "  </thead>\n",
       "  <tbody>\n",
       "    <tr>\n",
       "      <th>2007-01-01</th>\n",
       "      <td>0.160</td>\n",
       "      <td>0.738</td>\n",
       "      <td>0.102</td>\n",
       "      <td>-0.9851</td>\n",
       "    </tr>\n",
       "    <tr>\n",
       "      <th>2007-01-02</th>\n",
       "      <td>0.117</td>\n",
       "      <td>0.775</td>\n",
       "      <td>0.109</td>\n",
       "      <td>0.4395</td>\n",
       "    </tr>\n",
       "    <tr>\n",
       "      <th>2007-01-03</th>\n",
       "      <td>0.192</td>\n",
       "      <td>0.748</td>\n",
       "      <td>0.060</td>\n",
       "      <td>-0.9995</td>\n",
       "    </tr>\n",
       "    <tr>\n",
       "      <th>2007-01-04</th>\n",
       "      <td>0.113</td>\n",
       "      <td>0.827</td>\n",
       "      <td>0.060</td>\n",
       "      <td>-0.9973</td>\n",
       "    </tr>\n",
       "    <tr>\n",
       "      <th>2007-01-05</th>\n",
       "      <td>0.082</td>\n",
       "      <td>0.829</td>\n",
       "      <td>0.089</td>\n",
       "      <td>0.9726</td>\n",
       "    </tr>\n",
       "  </tbody>\n",
       "</table>\n",
       "</div>"
      ],
      "text/plain": [
       "              neg    neu    pos  compound\n",
       "2007-01-01  0.160  0.738  0.102   -0.9851\n",
       "2007-01-02  0.117  0.775  0.109    0.4395\n",
       "2007-01-03  0.192  0.748  0.060   -0.9995\n",
       "2007-01-04  0.113  0.827  0.060   -0.9973\n",
       "2007-01-05  0.082  0.829  0.089    0.9726"
      ]
     },
     "execution_count": 14,
     "metadata": {},
     "output_type": "execute_result"
    }
   ],
   "source": [
    "sent_head = df['headline.main'].apply(lambda x: sent.polarity_scores(x)) \n",
    "# 입력 된 텍스트를 기반으로 감정의 강도 float를 돌려줍니다. 양수 값은 양수이고 음수 값은 음수입니다.\n",
    "sent_head = pd.DataFrame.from_records(sent_head.values, index=sent_head.index)\n",
    "sent_head.head()"
   ]
  },
  {
   "cell_type": "code",
   "execution_count": 15,
   "metadata": {},
   "outputs": [
    {
     "data": {
      "text/plain": [
       "(3651, 4)"
      ]
     },
     "execution_count": 15,
     "metadata": {},
     "output_type": "execute_result"
    }
   ],
   "source": [
    "sent_head.shape"
   ]
  },
  {
   "cell_type": "code",
   "execution_count": 17,
   "metadata": {},
   "outputs": [
    {
     "name": "stdout",
     "output_type": "stream",
     "text": [
      "<class 'pandas.core.frame.DataFrame'>\n",
      "DatetimeIndex: 3651 entries, 2007-01-01 to 2016-12-31\n",
      "Data columns (total 11 columns):\n",
      "Open             3651 non-null float64\n",
      "High             3651 non-null float64\n",
      "Low              3651 non-null float64\n",
      "Close            3651 non-null float64\n",
      "Adj Close        3651 non-null float64\n",
      "Volume           3651 non-null float64\n",
      "headline.main    3651 non-null object\n",
      "neg              3651 non-null float64\n",
      "neu              3651 non-null float64\n",
      "pos              3651 non-null float64\n",
      "compound         3651 non-null float64\n",
      "dtypes: float64(10), object(1)\n",
      "memory usage: 502.3+ KB\n"
     ]
    }
   ],
   "source": [
    "df.info()"
   ]
  },
  {
   "cell_type": "code",
   "execution_count": 18,
   "metadata": {},
   "outputs": [
    {
     "name": "stdout",
     "output_type": "stream",
     "text": [
      "<class 'pandas.core.frame.DataFrame'>\n",
      "DatetimeIndex: 3651 entries, 2007-01-01 to 2016-12-31\n",
      "Data columns (total 4 columns):\n",
      "neg         3651 non-null float64\n",
      "neu         3651 non-null float64\n",
      "pos         3651 non-null float64\n",
      "compound    3651 non-null float64\n",
      "dtypes: float64(4)\n",
      "memory usage: 302.6 KB\n"
     ]
    }
   ],
   "source": [
    "sent_head.info()"
   ]
  },
  {
   "cell_type": "code",
   "execution_count": 20,
   "metadata": {},
   "outputs": [],
   "source": [
    "#df = df.merge(sent_head, on=sent_head.index, how='left')"
   ]
  },
  {
   "cell_type": "code",
   "execution_count": 25,
   "metadata": {},
   "outputs": [],
   "source": [
    "df = df.join(sent_head, how='left')"
   ]
  },
  {
   "cell_type": "code",
   "execution_count": 26,
   "metadata": {},
   "outputs": [
    {
     "data": {
      "text/html": [
       "<div>\n",
       "<style scoped>\n",
       "    .dataframe tbody tr th:only-of-type {\n",
       "        vertical-align: middle;\n",
       "    }\n",
       "\n",
       "    .dataframe tbody tr th {\n",
       "        vertical-align: top;\n",
       "    }\n",
       "\n",
       "    .dataframe thead th {\n",
       "        text-align: right;\n",
       "    }\n",
       "</style>\n",
       "<table border=\"1\" class=\"dataframe\">\n",
       "  <thead>\n",
       "    <tr style=\"text-align: right;\">\n",
       "      <th></th>\n",
       "      <th>Open</th>\n",
       "      <th>High</th>\n",
       "      <th>Low</th>\n",
       "      <th>Close</th>\n",
       "      <th>Adj Close</th>\n",
       "      <th>Volume</th>\n",
       "      <th>headline.main</th>\n",
       "      <th>neg</th>\n",
       "      <th>neu</th>\n",
       "      <th>pos</th>\n",
       "      <th>compound</th>\n",
       "    </tr>\n",
       "  </thead>\n",
       "  <tbody>\n",
       "    <tr>\n",
       "      <th>2007-01-01</th>\n",
       "      <td>12475.916211</td>\n",
       "      <td>12558.621875</td>\n",
       "      <td>12423.344141</td>\n",
       "      <td>12469.971875</td>\n",
       "      <td>12469.971875</td>\n",
       "      <td>260944000.0</td>\n",
       "      <td>Estimates of Iraqi Civilian Deaths Romania and...</td>\n",
       "      <td>0.160</td>\n",
       "      <td>0.738</td>\n",
       "      <td>0.102</td>\n",
       "      <td>-0.9851</td>\n",
       "    </tr>\n",
       "    <tr>\n",
       "      <th>2007-01-02</th>\n",
       "      <td>12467.728125</td>\n",
       "      <td>12569.485742</td>\n",
       "      <td>12414.082227</td>\n",
       "      <td>12472.245703</td>\n",
       "      <td>12472.245703</td>\n",
       "      <td>294072000.0</td>\n",
       "      <td>For Dodd, Wall Street Looms Large Ford's Lost ...</td>\n",
       "      <td>0.117</td>\n",
       "      <td>0.775</td>\n",
       "      <td>0.109</td>\n",
       "      <td>0.4395</td>\n",
       "    </tr>\n",
       "  </tbody>\n",
       "</table>\n",
       "</div>"
      ],
      "text/plain": [
       "                    Open          High           Low         Close  \\\n",
       "2007-01-01  12475.916211  12558.621875  12423.344141  12469.971875   \n",
       "2007-01-02  12467.728125  12569.485742  12414.082227  12472.245703   \n",
       "\n",
       "               Adj Close       Volume  \\\n",
       "2007-01-01  12469.971875  260944000.0   \n",
       "2007-01-02  12472.245703  294072000.0   \n",
       "\n",
       "                                                headline.main    neg    neu  \\\n",
       "2007-01-01  Estimates of Iraqi Civilian Deaths Romania and...  0.160  0.738   \n",
       "2007-01-02  For Dodd, Wall Street Looms Large Ford's Lost ...  0.117  0.775   \n",
       "\n",
       "              pos  compound  \n",
       "2007-01-01  0.102   -0.9851  \n",
       "2007-01-02  0.109    0.4395  "
      ]
     },
     "execution_count": 26,
     "metadata": {},
     "output_type": "execute_result"
    }
   ],
   "source": [
    "df.head(2)"
   ]
  },
  {
   "cell_type": "code",
   "execution_count": 27,
   "metadata": {},
   "outputs": [
    {
     "data": {
      "text/plain": [
       "(3651, 11)"
      ]
     },
     "execution_count": 27,
     "metadata": {},
     "output_type": "execute_result"
    }
   ],
   "source": [
    "df.shape"
   ]
  },
  {
   "cell_type": "code",
   "execution_count": 28,
   "metadata": {},
   "outputs": [
    {
     "name": "stdout",
     "output_type": "stream",
     "text": [
      "<class 'pandas.core.frame.DataFrame'>\n",
      "DatetimeIndex: 3651 entries, 2007-01-01 to 2016-12-31\n",
      "Data columns (total 11 columns):\n",
      "Open             3651 non-null float64\n",
      "High             3651 non-null float64\n",
      "Low              3651 non-null float64\n",
      "Close            3651 non-null float64\n",
      "Adj Close        3651 non-null float64\n",
      "Volume           3651 non-null float64\n",
      "headline.main    3651 non-null object\n",
      "neg              3651 non-null float64\n",
      "neu              3651 non-null float64\n",
      "pos              3651 non-null float64\n",
      "compound         3651 non-null float64\n",
      "dtypes: float64(10), object(1)\n",
      "memory usage: 502.3+ KB\n"
     ]
    }
   ],
   "source": [
    "df.info()"
   ]
  },
  {
   "cell_type": "code",
   "execution_count": 29,
   "metadata": {},
   "outputs": [
    {
     "data": {
      "text/html": [
       "<div>\n",
       "<style scoped>\n",
       "    .dataframe tbody tr th:only-of-type {\n",
       "        vertical-align: middle;\n",
       "    }\n",
       "\n",
       "    .dataframe tbody tr th {\n",
       "        vertical-align: top;\n",
       "    }\n",
       "\n",
       "    .dataframe thead th {\n",
       "        text-align: right;\n",
       "    }\n",
       "</style>\n",
       "<table border=\"1\" class=\"dataframe\">\n",
       "  <thead>\n",
       "    <tr style=\"text-align: right;\">\n",
       "      <th></th>\n",
       "      <th>prices</th>\n",
       "      <th>Open</th>\n",
       "      <th>High</th>\n",
       "      <th>Low</th>\n",
       "      <th>Close</th>\n",
       "      <th>compound</th>\n",
       "      <th>neg</th>\n",
       "      <th>neu</th>\n",
       "      <th>pos</th>\n",
       "    </tr>\n",
       "  </thead>\n",
       "  <tbody>\n",
       "    <tr>\n",
       "      <th>2007-01-01</th>\n",
       "      <td>12469</td>\n",
       "      <td>12475.916211</td>\n",
       "      <td>12558.621875</td>\n",
       "      <td>12423.344141</td>\n",
       "      <td>12469.971875</td>\n",
       "      <td>-0.9851</td>\n",
       "      <td>0.160</td>\n",
       "      <td>0.738</td>\n",
       "      <td>0.102</td>\n",
       "    </tr>\n",
       "    <tr>\n",
       "      <th>2007-01-02</th>\n",
       "      <td>12472</td>\n",
       "      <td>12467.728125</td>\n",
       "      <td>12569.485742</td>\n",
       "      <td>12414.082227</td>\n",
       "      <td>12472.245703</td>\n",
       "      <td>0.4395</td>\n",
       "      <td>0.117</td>\n",
       "      <td>0.775</td>\n",
       "      <td>0.109</td>\n",
       "    </tr>\n",
       "    <tr>\n",
       "      <th>2007-01-03</th>\n",
       "      <td>12474</td>\n",
       "      <td>12459.540039</td>\n",
       "      <td>12580.349609</td>\n",
       "      <td>12404.820313</td>\n",
       "      <td>12474.519531</td>\n",
       "      <td>-0.9995</td>\n",
       "      <td>0.192</td>\n",
       "      <td>0.748</td>\n",
       "      <td>0.060</td>\n",
       "    </tr>\n",
       "    <tr>\n",
       "      <th>2007-01-04</th>\n",
       "      <td>12480</td>\n",
       "      <td>12473.160156</td>\n",
       "      <td>12510.410156</td>\n",
       "      <td>12403.860352</td>\n",
       "      <td>12480.690430</td>\n",
       "      <td>-0.9973</td>\n",
       "      <td>0.113</td>\n",
       "      <td>0.827</td>\n",
       "      <td>0.060</td>\n",
       "    </tr>\n",
       "    <tr>\n",
       "      <th>2007-01-05</th>\n",
       "      <td>12398</td>\n",
       "      <td>12480.049805</td>\n",
       "      <td>12480.129883</td>\n",
       "      <td>12365.410156</td>\n",
       "      <td>12398.009766</td>\n",
       "      <td>0.9726</td>\n",
       "      <td>0.082</td>\n",
       "      <td>0.829</td>\n",
       "      <td>0.089</td>\n",
       "    </tr>\n",
       "  </tbody>\n",
       "</table>\n",
       "</div>"
      ],
      "text/plain": [
       "            prices          Open          High           Low         Close  \\\n",
       "2007-01-01   12469  12475.916211  12558.621875  12423.344141  12469.971875   \n",
       "2007-01-02   12472  12467.728125  12569.485742  12414.082227  12472.245703   \n",
       "2007-01-03   12474  12459.540039  12580.349609  12404.820313  12474.519531   \n",
       "2007-01-04   12480  12473.160156  12510.410156  12403.860352  12480.690430   \n",
       "2007-01-05   12398  12480.049805  12480.129883  12365.410156  12398.009766   \n",
       "\n",
       "            compound    neg    neu    pos  \n",
       "2007-01-01   -0.9851  0.160  0.738  0.102  \n",
       "2007-01-02    0.4395  0.117  0.775  0.109  \n",
       "2007-01-03   -0.9995  0.192  0.748  0.060  \n",
       "2007-01-04   -0.9973  0.113  0.827  0.060  \n",
       "2007-01-05    0.9726  0.082  0.829  0.089  "
      ]
     },
     "execution_count": 29,
     "metadata": {},
     "output_type": "execute_result"
    }
   ],
   "source": [
    "col = ['Adj Close', 'Open', 'High', 'Low', 'Close', 'compound', 'neg', 'neu', 'pos']\n",
    "new_names = ['prices', 'Open', 'High', 'Low', 'Close', 'compound', 'neg', 'neu', 'pos']\n",
    "df = df[col]\n",
    "df.columns = new_names\n",
    "df.prices = df.prices.astype('int')\n",
    "df.head()"
   ]
  },
  {
   "cell_type": "code",
   "execution_count": 30,
   "metadata": {},
   "outputs": [],
   "source": [
    "df.to_pickle('data/train_set_KDU.pkl')"
   ]
  },
  {
   "cell_type": "code",
   "execution_count": null,
   "metadata": {},
   "outputs": [],
   "source": []
  }
 ],
 "metadata": {
  "kernelspec": {
   "display_name": "Python 3",
   "language": "python",
   "name": "python3"
  },
  "language_info": {
   "codemirror_mode": {
    "name": "ipython",
    "version": 3
   },
   "file_extension": ".py",
   "mimetype": "text/x-python",
   "name": "python",
   "nbconvert_exporter": "python",
   "pygments_lexer": "ipython3",
   "version": "3.6.4"
  }
 },
 "nbformat": 4,
 "nbformat_minor": 4
}
