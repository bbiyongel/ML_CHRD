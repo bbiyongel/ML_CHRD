{
 "cells": [
  {
   "cell_type": "code",
   "execution_count": 1,
   "metadata": {},
   "outputs": [],
   "source": [
    "import pandas as pd\n",
    "import numpy as np\n",
    "import matplotlib.pyplot as plt\n",
    "from sklearn.metrics import r2_score\n",
    "%matplotlib inline"
   ]
  },
  {
   "cell_type": "code",
   "execution_count": 2,
   "metadata": {},
   "outputs": [
    {
     "data": {
      "text/html": [
       "<div>\n",
       "<style scoped>\n",
       "    .dataframe tbody tr th:only-of-type {\n",
       "        vertical-align: middle;\n",
       "    }\n",
       "\n",
       "    .dataframe tbody tr th {\n",
       "        vertical-align: top;\n",
       "    }\n",
       "\n",
       "    .dataframe thead th {\n",
       "        text-align: right;\n",
       "    }\n",
       "</style>\n",
       "<table border=\"1\" class=\"dataframe\">\n",
       "  <thead>\n",
       "    <tr style=\"text-align: right;\">\n",
       "      <th></th>\n",
       "      <th>prices</th>\n",
       "      <th>compound</th>\n",
       "      <th>neg</th>\n",
       "      <th>neu</th>\n",
       "      <th>pos</th>\n",
       "    </tr>\n",
       "  </thead>\n",
       "  <tbody>\n",
       "    <tr>\n",
       "      <th>2007-01-01</th>\n",
       "      <td>12469</td>\n",
       "      <td>-0.9851</td>\n",
       "      <td>0.160</td>\n",
       "      <td>0.738</td>\n",
       "      <td>0.102</td>\n",
       "    </tr>\n",
       "    <tr>\n",
       "      <th>2007-01-02</th>\n",
       "      <td>12472</td>\n",
       "      <td>0.4395</td>\n",
       "      <td>0.117</td>\n",
       "      <td>0.775</td>\n",
       "      <td>0.109</td>\n",
       "    </tr>\n",
       "    <tr>\n",
       "      <th>2007-01-03</th>\n",
       "      <td>12474</td>\n",
       "      <td>-0.9995</td>\n",
       "      <td>0.192</td>\n",
       "      <td>0.748</td>\n",
       "      <td>0.060</td>\n",
       "    </tr>\n",
       "    <tr>\n",
       "      <th>2007-01-04</th>\n",
       "      <td>12480</td>\n",
       "      <td>-0.9973</td>\n",
       "      <td>0.113</td>\n",
       "      <td>0.827</td>\n",
       "      <td>0.060</td>\n",
       "    </tr>\n",
       "    <tr>\n",
       "      <th>2007-01-05</th>\n",
       "      <td>12398</td>\n",
       "      <td>0.9726</td>\n",
       "      <td>0.082</td>\n",
       "      <td>0.829</td>\n",
       "      <td>0.089</td>\n",
       "    </tr>\n",
       "  </tbody>\n",
       "</table>\n",
       "</div>"
      ],
      "text/plain": [
       "            prices  compound    neg    neu    pos\n",
       "2007-01-01   12469   -0.9851  0.160  0.738  0.102\n",
       "2007-01-02   12472    0.4395  0.117  0.775  0.109\n",
       "2007-01-03   12474   -0.9995  0.192  0.748  0.060\n",
       "2007-01-04   12480   -0.9973  0.113  0.827  0.060\n",
       "2007-01-05   12398    0.9726  0.082  0.829  0.089"
      ]
     },
     "execution_count": 2,
     "metadata": {},
     "output_type": "execute_result"
    }
   ],
   "source": [
    "df = pd.read_pickle('data/train_set.pkl')\n",
    "df.head()"
   ]
  },
  {
   "cell_type": "code",
   "execution_count": 3,
   "metadata": {},
   "outputs": [],
   "source": [
    "train_end = '2014-12-31'\n",
    "test_start = '2015-01-01'\n",
    "train_x = df.loc[:train_end]\n",
    "test_x = df.loc[test_start:]\n",
    "train_y = train_x.prices\n",
    "test_y = test_x.prices\n",
    "train_x = train_x.drop('prices', axis='columns')\n",
    "test_x = test_x.drop('prices', axis='columns')"
   ]
  },
  {
   "cell_type": "code",
   "execution_count": 4,
   "metadata": {},
   "outputs": [
    {
     "name": "stderr",
     "output_type": "stream",
     "text": [
      "C:\\Users\\kduar_000\\Anaconda3\\lib\\site-packages\\sklearn\\ensemble\\forest.py:248: FutureWarning: The default value of n_estimators will change from 10 in version 0.20 to 100 in 0.22.\n",
      "  \"10 in version 0.20 to 100 in 0.22.\", FutureWarning)\n"
     ]
    },
    {
     "data": {
      "text/plain": [
       "RandomForestRegressor(bootstrap=True, criterion='mse', max_depth=None,\n",
       "           max_features='auto', max_leaf_nodes=None,\n",
       "           min_impurity_decrease=0.0, min_impurity_split=None,\n",
       "           min_samples_leaf=1, min_samples_split=2,\n",
       "           min_weight_fraction_leaf=0.0, n_estimators=10, n_jobs=None,\n",
       "           oob_score=False, random_state=None, verbose=0, warm_start=False)"
      ]
     },
     "execution_count": 4,
     "metadata": {},
     "output_type": "execute_result"
    }
   ],
   "source": [
    "from sklearn.ensemble import RandomForestRegressor\n",
    "\n",
    "rf = RandomForestRegressor()\n",
    "rf.fit(train_x, train_y)"
   ]
  },
  {
   "cell_type": "code",
   "execution_count": 5,
   "metadata": {},
   "outputs": [
    {
     "data": {
      "text/html": [
       "<div>\n",
       "<style scoped>\n",
       "    .dataframe tbody tr th:only-of-type {\n",
       "        vertical-align: middle;\n",
       "    }\n",
       "\n",
       "    .dataframe tbody tr th {\n",
       "        vertical-align: top;\n",
       "    }\n",
       "\n",
       "    .dataframe thead th {\n",
       "        text-align: right;\n",
       "    }\n",
       "</style>\n",
       "<table border=\"1\" class=\"dataframe\">\n",
       "  <thead>\n",
       "    <tr style=\"text-align: right;\">\n",
       "      <th></th>\n",
       "      <th>pred_prices</th>\n",
       "    </tr>\n",
       "  </thead>\n",
       "  <tbody>\n",
       "    <tr>\n",
       "      <th>2015-01-01</th>\n",
       "      <td>12703.5</td>\n",
       "    </tr>\n",
       "    <tr>\n",
       "      <th>2015-01-02</th>\n",
       "      <td>13541.3</td>\n",
       "    </tr>\n",
       "    <tr>\n",
       "      <th>2015-01-03</th>\n",
       "      <td>11498.0</td>\n",
       "    </tr>\n",
       "    <tr>\n",
       "      <th>2015-01-04</th>\n",
       "      <td>13601.4</td>\n",
       "    </tr>\n",
       "    <tr>\n",
       "      <th>2015-01-05</th>\n",
       "      <td>12223.4</td>\n",
       "    </tr>\n",
       "  </tbody>\n",
       "</table>\n",
       "</div>"
      ],
      "text/plain": [
       "            pred_prices\n",
       "2015-01-01      12703.5\n",
       "2015-01-02      13541.3\n",
       "2015-01-03      11498.0\n",
       "2015-01-04      13601.4\n",
       "2015-01-05      12223.4"
      ]
     },
     "execution_count": 5,
     "metadata": {},
     "output_type": "execute_result"
    }
   ],
   "source": [
    "pred = rf.predict(test_x)\n",
    "pred_df = pd.DataFrame(data=pred, index=test_x.index, columns=['pred_prices'])\n",
    "pred_df.head()"
   ]
  },
  {
   "cell_type": "code",
   "execution_count": 6,
   "metadata": {},
   "outputs": [
    {
     "data": {
      "text/plain": [
       "-39.70738951298598"
      ]
     },
     "execution_count": 6,
     "metadata": {},
     "output_type": "execute_result"
    }
   ],
   "source": [
    "r2_score(test_y, pred_df)"
   ]
  },
  {
   "cell_type": "markdown",
   "metadata": {},
   "source": [
    "### GradientBoostingRegressor 적용"
   ]
  },
  {
   "cell_type": "code",
   "execution_count": 29,
   "metadata": {},
   "outputs": [
    {
     "data": {
      "text/plain": [
       "GradientBoostingRegressor(alpha=0.9, criterion='friedman_mse', init=None,\n",
       "             learning_rate=0.1, loss='ls', max_depth=3, max_features=None,\n",
       "             max_leaf_nodes=None, min_impurity_decrease=0.0,\n",
       "             min_impurity_split=None, min_samples_leaf=1,\n",
       "             min_samples_split=2, min_weight_fraction_leaf=0.0,\n",
       "             n_estimators=100, n_iter_no_change=None, presort='auto',\n",
       "             random_state=None, subsample=1.0, tol=0.0001,\n",
       "             validation_fraction=0.1, verbose=0, warm_start=False)"
      ]
     },
     "execution_count": 29,
     "metadata": {},
     "output_type": "execute_result"
    }
   ],
   "source": [
    "from sklearn.ensemble import GradientBoostingRegressor\n",
    "model = GradientBoostingRegressor()\n",
    "model.fit(train_x, train_y)"
   ]
  },
  {
   "cell_type": "code",
   "execution_count": 30,
   "metadata": {},
   "outputs": [],
   "source": [
    "pred_model = model.predict(test_x)\n",
    "pred_dfM = pd.DataFrame(data=pred_model, index=test_x.index, columns=['pred_prices'])"
   ]
  },
  {
   "cell_type": "code",
   "execution_count": 31,
   "metadata": {},
   "outputs": [
    {
     "data": {
      "text/plain": [
       "-39.00483913208285"
      ]
     },
     "execution_count": 31,
     "metadata": {},
     "output_type": "execute_result"
    }
   ],
   "source": [
    "r2_score(test_y, pred_dfM)"
   ]
  },
  {
   "cell_type": "code",
   "execution_count": 10,
   "metadata": {},
   "outputs": [
    {
     "data": {
      "image/png": "[encoded data removed]",
      "text/plain": [
       "<matplotlib.figure.Figure at 0x2202dded9b0>"
      ]
     },
     "metadata": {
      "needs_background": "light"
     },
     "output_type": "display_data"
    }
   ],
   "source": [
    "ax = pred_df.plot()\n",
    "fig = pd.DataFrame(test_y).plot(ax=ax)"
   ]
  },
  {
   "cell_type": "code",
   "execution_count": 11,
   "metadata": {},
   "outputs": [],
   "source": [
    "train_pred = rf.predict(train_x)\n",
    "train_pred = pd.Series(train_pred, index=train_x.index)"
   ]
  },
  {
   "cell_type": "code",
   "execution_count": 12,
   "metadata": {},
   "outputs": [
    {
     "data": {
      "text/plain": [
       "2921"
      ]
     },
     "execution_count": 12,
     "metadata": {},
     "output_type": "execute_result"
    }
   ],
   "source": [
    "len(train_x)"
   ]
  },
  {
   "cell_type": "code",
   "execution_count": 13,
   "metadata": {},
   "outputs": [
    {
     "data": {
      "text/plain": [
       "array([   5,   10,   15,   20,   25,   30,   35,   40,   45,   50,   55,\n",
       "         60,   65,   70,   75,   80,   85,   90,   95,  100,  105,  110,\n",
       "        115,  120,  125,  130,  135,  140,  145,  150,  155,  160,  165,\n",
       "        170,  175,  180,  185,  190,  195,  200,  205,  210,  215,  220,\n",
       "        225,  230,  235,  240,  245,  250,  255,  260,  265,  270,  275,\n",
       "        280,  285,  290,  295,  300,  305,  310,  315,  320,  325,  330,\n",
       "        335,  340,  345,  350,  355,  360,  365,  370,  375,  380,  385,\n",
       "        390,  395,  400,  405,  410,  415,  420,  425,  430,  435,  440,\n",
       "        445,  450,  455,  460,  465,  470,  475,  480,  485,  490,  495,\n",
       "        500,  505,  510,  515,  520,  525,  530,  535,  540,  545,  550,\n",
       "        555,  560,  565,  570,  575,  580,  585,  590,  595,  600,  605,\n",
       "        610,  615,  620,  625,  630,  635,  640,  645,  650,  655,  660,\n",
       "        665,  670,  675,  680,  685,  690,  695,  700,  705,  710,  715,\n",
       "        720,  725,  730,  735,  740,  745,  750,  755,  760,  765,  770,\n",
       "        775,  780,  785,  790,  795,  800,  805,  810,  815,  820,  825,\n",
       "        830,  835,  840,  845,  850,  855,  860,  865,  870,  875,  880,\n",
       "        885,  890,  895,  900,  905,  910,  915,  920,  925,  930,  935,\n",
       "        940,  945,  950,  955,  960,  965,  970,  975,  980,  985,  990,\n",
       "        995, 1000, 1005, 1010, 1015, 1020, 1025, 1030, 1035, 1040, 1045,\n",
       "       1050, 1055, 1060, 1065, 1070, 1075, 1080, 1085, 1090, 1095, 1100,\n",
       "       1105, 1110, 1115, 1120, 1125, 1130, 1135, 1140, 1145, 1150, 1155,\n",
       "       1160, 1165, 1170, 1175, 1180, 1185, 1190, 1195, 1200, 1205, 1210,\n",
       "       1215, 1220, 1225, 1230, 1235, 1240, 1245, 1250, 1255, 1260, 1265,\n",
       "       1270, 1275, 1280, 1285, 1290, 1295, 1300, 1305, 1310, 1315, 1320,\n",
       "       1325, 1330, 1335, 1340, 1345, 1350, 1355, 1360, 1365, 1370, 1375,\n",
       "       1380, 1385, 1390, 1395, 1400, 1405, 1410, 1415, 1420, 1425, 1430,\n",
       "       1435, 1440, 1445, 1450, 1455, 1460, 1465, 1470, 1475, 1480, 1485,\n",
       "       1490, 1495, 1500, 1505, 1510, 1515, 1520, 1525, 1530, 1535, 1540,\n",
       "       1545, 1550, 1555, 1560, 1565, 1570, 1575, 1580, 1585, 1590, 1595,\n",
       "       1600, 1605, 1610, 1615, 1620, 1625, 1630, 1635, 1640, 1645, 1650,\n",
       "       1655, 1660, 1665, 1670, 1675, 1680, 1685, 1690, 1695, 1700, 1705,\n",
       "       1710, 1715, 1720, 1725, 1730, 1735, 1740, 1745, 1750, 1755, 1760,\n",
       "       1765, 1770, 1775, 1780, 1785, 1790, 1795, 1800, 1805, 1810, 1815,\n",
       "       1820, 1825, 1830, 1835, 1840, 1845, 1850, 1855, 1860, 1865, 1870,\n",
       "       1875, 1880, 1885, 1890, 1895, 1900, 1905, 1910, 1915, 1920, 1925,\n",
       "       1930, 1935, 1940, 1945, 1950, 1955, 1960, 1965, 1970, 1975, 1980,\n",
       "       1985, 1990, 1995, 2000, 2005, 2010, 2015, 2020, 2025, 2030, 2035,\n",
       "       2040, 2045, 2050, 2055, 2060, 2065, 2070, 2075, 2080, 2085, 2090,\n",
       "       2095, 2100, 2105, 2110, 2115, 2120, 2125, 2130, 2135, 2140, 2145,\n",
       "       2150, 2155, 2160, 2165, 2170, 2175, 2180, 2185, 2190, 2195, 2200,\n",
       "       2205, 2210, 2215, 2220, 2225, 2230, 2235, 2240, 2245, 2250, 2255,\n",
       "       2260, 2265, 2270, 2275, 2280, 2285, 2290, 2295, 2300, 2305, 2310,\n",
       "       2315, 2320, 2325, 2330, 2335, 2340, 2345, 2350, 2355, 2360, 2365,\n",
       "       2370, 2375, 2380, 2385, 2390, 2395, 2400, 2405, 2410, 2415, 2420,\n",
       "       2425, 2430, 2435, 2440, 2445, 2450, 2455, 2460, 2465, 2470, 2475,\n",
       "       2480, 2485, 2490, 2495, 2500, 2505, 2510, 2515, 2520, 2525, 2530,\n",
       "       2535, 2540, 2545, 2550, 2555, 2560, 2565, 2570, 2575, 2580, 2585,\n",
       "       2590, 2595, 2600, 2605, 2610, 2615, 2620, 2625, 2630, 2635, 2640,\n",
       "       2645, 2650, 2655, 2660, 2665, 2670, 2675, 2680, 2685, 2690, 2695,\n",
       "       2700, 2705, 2710, 2715, 2720, 2725, 2730, 2735, 2740, 2745, 2750,\n",
       "       2755, 2760, 2765, 2770, 2775, 2780, 2785, 2790, 2795, 2800, 2805,\n",
       "       2810, 2815, 2820, 2825, 2830, 2835, 2840, 2845, 2850, 2855, 2860,\n",
       "       2865, 2870, 2875, 2880, 2885, 2890, 2895, 2900, 2905, 2910, 2915])"
      ]
     },
     "execution_count": 13,
     "metadata": {},
     "output_type": "execute_result"
    }
   ],
   "source": [
    "days = 5\n",
    "day_int = np.arange(days, len(train_x)-days, days)\n",
    "day_int"
   ]
  },
  {
   "cell_type": "code",
   "execution_count": 14,
   "metadata": {},
   "outputs": [
    {
     "data": {
      "text/plain": [
       "13.709342481418153"
      ]
     },
     "execution_count": 14,
     "metadata": {},
     "output_type": "execute_result"
    }
   ],
   "source": [
    "days = 5\n",
    "day_int = np.arange(days, len(train_x)-days, days)\n",
    "total_days=0\n",
    "mean_diff = 0\n",
    "for day in day_int:\n",
    "    act_mean = train_y[(day-days):day].mean()\n",
    "    pred_mean = train_pred[day:(day+days)].mean()\n",
    "    mean_diff += (pred_mean-act_mean)\n",
    "    total_days += 1\n",
    "mean_diff = mean_diff / total_days\n",
    "mean_diff"
   ]
  },
  {
   "cell_type": "code",
   "execution_count": 15,
   "metadata": {},
   "outputs": [
    {
     "data": {
      "text/html": [
       "<div>\n",
       "<style scoped>\n",
       "    .dataframe tbody tr th:only-of-type {\n",
       "        vertical-align: middle;\n",
       "    }\n",
       "\n",
       "    .dataframe tbody tr th {\n",
       "        vertical-align: top;\n",
       "    }\n",
       "\n",
       "    .dataframe thead th {\n",
       "        text-align: right;\n",
       "    }\n",
       "</style>\n",
       "<table border=\"1\" class=\"dataframe\">\n",
       "  <thead>\n",
       "    <tr style=\"text-align: right;\">\n",
       "      <th></th>\n",
       "      <th>pred_prices</th>\n",
       "      <th>ewm_prices</th>\n",
       "    </tr>\n",
       "  </thead>\n",
       "  <tbody>\n",
       "    <tr>\n",
       "      <th>2015-01-01</th>\n",
       "      <td>12703.5</td>\n",
       "      <td>12717.209342</td>\n",
       "    </tr>\n",
       "    <tr>\n",
       "      <th>2015-01-02</th>\n",
       "      <td>13541.3</td>\n",
       "      <td>13143.091009</td>\n",
       "    </tr>\n",
       "    <tr>\n",
       "      <th>2015-01-03</th>\n",
       "      <td>11498.0</td>\n",
       "      <td>12581.071642</td>\n",
       "    </tr>\n",
       "    <tr>\n",
       "      <th>2015-01-04</th>\n",
       "      <td>13601.4</td>\n",
       "      <td>12852.647722</td>\n",
       "    </tr>\n",
       "    <tr>\n",
       "      <th>2015-01-05</th>\n",
       "      <td>12223.4</td>\n",
       "      <td>12721.198428</td>\n",
       "    </tr>\n",
       "  </tbody>\n",
       "</table>\n",
       "</div>"
      ],
      "text/plain": [
       "            pred_prices    ewm_prices\n",
       "2015-01-01      12703.5  12717.209342\n",
       "2015-01-02      13541.3  13143.091009\n",
       "2015-01-03      11498.0  12581.071642\n",
       "2015-01-04      13601.4  12852.647722\n",
       "2015-01-05      12223.4  12721.198428"
      ]
     },
     "execution_count": 15,
     "metadata": {},
     "output_type": "execute_result"
    }
   ],
   "source": [
    "pred_df['ewm_prices'] = pred_df.ewm(span=60).mean() + mean_diff\n",
    "pred_df.head()"
   ]
  },
  {
   "cell_type": "code",
   "execution_count": 16,
   "metadata": {},
   "outputs": [
    {
     "data": {
      "text/plain": [
       "-37.25823431091108"
      ]
     },
     "execution_count": 16,
     "metadata": {},
     "output_type": "execute_result"
    }
   ],
   "source": [
    "r2_score(test_y, pred_df.ewm_prices)"
   ]
  },
  {
   "cell_type": "markdown",
   "metadata": {},
   "source": [
    "### 60일에서 5일로 구간을 줄였더니 더 좋아졌다"
   ]
  },
  {
   "cell_type": "code",
   "execution_count": 18,
   "metadata": {},
   "outputs": [],
   "source": [
    "# 지수 이동평균 구하기\n",
    "#pred_df['ewm_prices'] = pred_df.ewm(span=60).mean() + mean_diff\n",
    "pred_df['ewm_prices'] = pred_df.ewm(span=5).mean() + mean_diff"
   ]
  },
  {
   "cell_type": "code",
   "execution_count": 19,
   "metadata": {},
   "outputs": [
    {
     "data": {
      "text/plain": [
       "-37.7206443736274"
      ]
     },
     "execution_count": 19,
     "metadata": {},
     "output_type": "execute_result"
    }
   ],
   "source": [
    "r2_score(test_y, pred_df.ewm_prices)"
   ]
  },
  {
   "cell_type": "code",
   "execution_count": 24,
   "metadata": {},
   "outputs": [
    {
     "data": {
      "text/html": [
       "<div>\n",
       "<style scoped>\n",
       "    .dataframe tbody tr th:only-of-type {\n",
       "        vertical-align: middle;\n",
       "    }\n",
       "\n",
       "    .dataframe tbody tr th {\n",
       "        vertical-align: top;\n",
       "    }\n",
       "\n",
       "    .dataframe thead th {\n",
       "        text-align: right;\n",
       "    }\n",
       "</style>\n",
       "<table border=\"1\" class=\"dataframe\">\n",
       "  <thead>\n",
       "    <tr style=\"text-align: right;\">\n",
       "      <th></th>\n",
       "      <th>pred_prices</th>\n",
       "      <th>ewm_prices</th>\n",
       "    </tr>\n",
       "  </thead>\n",
       "  <tbody>\n",
       "    <tr>\n",
       "      <th>2015-01-01</th>\n",
       "      <td>12703.5</td>\n",
       "      <td>12717.209342</td>\n",
       "    </tr>\n",
       "    <tr>\n",
       "      <th>2015-01-02</th>\n",
       "      <td>13541.3</td>\n",
       "      <td>13219.889342</td>\n",
       "    </tr>\n",
       "    <tr>\n",
       "      <th>2015-01-03</th>\n",
       "      <td>11498.0</td>\n",
       "      <td>12410.751448</td>\n",
       "    </tr>\n",
       "    <tr>\n",
       "      <th>2015-01-04</th>\n",
       "      <td>13601.4</td>\n",
       "      <td>12911.023189</td>\n",
       "    </tr>\n",
       "    <tr>\n",
       "      <th>2015-01-05</th>\n",
       "      <td>12223.4</td>\n",
       "      <td>12652.316925</td>\n",
       "    </tr>\n",
       "  </tbody>\n",
       "</table>\n",
       "</div>"
      ],
      "text/plain": [
       "            pred_prices    ewm_prices\n",
       "2015-01-01      12703.5  12717.209342\n",
       "2015-01-02      13541.3  13219.889342\n",
       "2015-01-03      11498.0  12410.751448\n",
       "2015-01-04      13601.4  12911.023189\n",
       "2015-01-05      12223.4  12652.316925"
      ]
     },
     "execution_count": 24,
     "metadata": {},
     "output_type": "execute_result"
    }
   ],
   "source": [
    "pred_df.head()"
   ]
  },
  {
   "cell_type": "markdown",
   "metadata": {},
   "source": [
    "GradientBoostingRegressor 에 지수 이동평균을 적용했더니 성능이 좀 더 좋아졌다."
   ]
  },
  {
   "cell_type": "code",
   "execution_count": 28,
   "metadata": {},
   "outputs": [
    {
     "data": {
      "text/plain": [
       "-38.477178472959096"
      ]
     },
     "execution_count": 28,
     "metadata": {},
     "output_type": "execute_result"
    }
   ],
   "source": [
    "pred_dfM['ewm_prices'] = pred_dfM.ewm(span=5).mean() + mean_diff\n",
    "r2_score(test_y, pred_dfM.ewm_prices)"
   ]
  },
  {
   "cell_type": "code",
   "execution_count": null,
   "metadata": {},
   "outputs": [],
   "source": []
  },
  {
   "cell_type": "code",
   "execution_count": 16,
   "metadata": {},
   "outputs": [
    {
     "data": {
      "image/png": "[encoded data removed]",
      "text/plain": [
       "<matplotlib.figure.Figure at 0x1822445e0f0>"
      ]
     },
     "metadata": {
      "needs_background": "light"
     },
     "output_type": "display_data"
    }
   ],
   "source": [
    "ax = pred_df[['ewm_prices']].plot()\n",
    "fig = pd.DataFrame(test_y).plot(ax=ax)"
   ]
  }
 ],
 "metadata": {
  "kernelspec": {
   "display_name": "Python 3",
   "language": "python",
   "name": "python3"
  },
  "language_info": {
   "codemirror_mode": {
    "name": "ipython",
    "version": 3
   },
   "file_extension": ".py",
   "mimetype": "text/x-python",
   "name": "python",
   "nbconvert_exporter": "python",
   "pygments_lexer": "ipython3",
   "version": "3.6.4"
  }
 },
 "nbformat": 4,
 "nbformat_minor": 4
}
